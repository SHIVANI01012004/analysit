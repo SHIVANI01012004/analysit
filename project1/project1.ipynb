{
 "cells": [
  {
   "cell_type": "code",
   "execution_count": null,
   "id": "44f4ae52-f59f-4f29-a8e7-52c54d40e6d5",
   "metadata": {},
   "outputs": [],
   "source": [
    "import numpy as np\n",
    "import seaborn as sns\n",
    "import pandas as pd\n",
    "import matplotlib.pyplot as plt"
   ]
  },
  {
   "cell_type": "code",
   "execution_count": null,
   "id": "599f0966-ad66-4b85-a031-41ce397fc23e",
   "metadata": {},
   "outputs": [],
   "source": [
    "df = pd.read_csv(\"Expanded_data_with_more_features.csv\")\n",
    "print(df.head())"
   ]
  },
  {
   "cell_type": "code",
   "execution_count": null,
   "id": "40140d48-b31a-4dcc-b70d-a8a138dd012c",
   "metadata": {},
   "outputs": [],
   "source": [
    "df.describe()"
   ]
  },
  {
   "cell_type": "code",
   "execution_count": null,
   "id": "93509e87-de40-4c94-a6f9-390b667ba25e",
   "metadata": {},
   "outputs": [],
   "source": [
    "df.info()\n"
   ]
  },
  {
   "cell_type": "code",
   "execution_count": null,
   "id": "0453b1bd-3518-40d7-bcfb-01ac53a14fb4",
   "metadata": {},
   "outputs": [],
   "source": [
    "df.isnull().sum()\n"
   ]
  },
  {
   "cell_type": "markdown",
   "id": "632e9aa4-f0b0-4108-8ad5-56ae8d6ff42c",
   "metadata": {},
   "source": [
    "#Drop unnamed column"
   ]
  },
  {
   "cell_type": "code",
   "execution_count": null,
   "id": "255edf69-8918-4120-9602-b5c1a6412016",
   "metadata": {},
   "outputs": [],
   "source": [
    "df = df.drop(\"Unnamed: 0\",axis = 1)\n",
    "print(df.head())"
   ]
  },
  {
   "cell_type": "markdown",
   "id": "62c7e932-106d-4cbc-b5f8-457b3090ddac",
   "metadata": {},
   "source": [
    "Gender Distribution"
   ]
  },
  {
   "cell_type": "code",
   "execution_count": null,
   "id": "18f7ce46-cab9-4497-89de-32b2aeba8980",
   "metadata": {},
   "outputs": [],
   "source": [
    "plt.figure(figsize=(4,5))\n",
    "ax=sns.countplot(data = df,x = \"Gender\")\n",
    "ax.bar_label(ax.containers[0])\n",
    "plt.title(\"Gender Distribution\")\n",
    "plt.show()"
   ]
  },
  {
   "cell_type": "markdown",
   "id": "f866dd6f-e8e6-4bab-befb-60f5c72c65ec",
   "metadata": {},
   "source": [
    "from the above chart we have analyzed that:\n",
    "The number of females in the data is more than the number of males"
   ]
  },
  {
   "cell_type": "code",
   "execution_count": null,
   "id": "cde7d838-33b6-4aa0-8569-811b9fa9654c",
   "metadata": {},
   "outputs": [],
   "source": [
    "gb = df.groupby(\"ParentEduc\").agg({\"MathScore\":\"mean\",\"ReadingScore\":\"mean\",\"WritingScore\":\"mean\"})\n",
    "print(gb)"
   ]
  },
  {
   "cell_type": "code",
   "execution_count": null,
   "id": "676200c1-c430-4d42-8a86-08d44e5f5ec6",
   "metadata": {},
   "outputs": [],
   "source": [
    "plt.figure(figsize=(10,4))\n",
    "sns.heatmap(gb,annot = True)\n",
    "plt.title(\"Relation between parent's education and student's score\")\n",
    "plt.show()"
   ]
  },
  {
   "cell_type": "markdown",
   "id": "0259f3a5-ec40-4488-95f5-5cc5524f1021",
   "metadata": {},
   "source": [
    "from the above chart we have conclude that the education of the parents have a good impact on their marks "
   ]
  },
  {
   "cell_type": "code",
   "execution_count": null,
   "id": "dd8e1869-9f62-456e-9348-2da93c59ba6a",
   "metadata": {},
   "outputs": [],
   "source": [
    "gb1 = df.groupby(\"ParentMaritalStatus\").agg({\"MathScore\":\"mean\",\"ReadingScore\":\"mean\",\"WritingScore\":\"mean\"})\n",
    "print(gb1)"
   ]
  },
  {
   "cell_type": "code",
   "execution_count": null,
   "id": "55726728-d48f-4bdc-b037-3aadeb8f2894",
   "metadata": {},
   "outputs": [],
   "source": [
    "plt.figure(figsize=(10,4))\n",
    "sns.heatmap(gb1,annot = True)\n",
    "plt.title(\"Relation between Parent's Marital Status and Student's score\")\n",
    "plt.show()"
   ]
  },
  {
   "cell_type": "markdown",
   "id": "de93bef1-e759-4c71-bda3-db42b15fa299",
   "metadata": {},
   "source": [
    "from the above chart we have conclude that is no/negligible impact on student's due to their parent's marital status "
   ]
  },
  {
   "cell_type": "code",
   "execution_count": null,
   "id": "46fec26a-36ce-4492-a34c-5b4aa59a1915",
   "metadata": {},
   "outputs": [],
   "source": [
    "sns.boxplot(data = df, x = \"MathScore\")\n",
    "plt.show()"
   ]
  },
  {
   "cell_type": "code",
   "execution_count": null,
   "id": "b02ce62f-6c98-4557-8143-e929bbda003e",
   "metadata": {},
   "outputs": [],
   "source": [
    "sns.boxplot(data = df, x = \"ReadingScore\")\n",
    "plt.show()"
   ]
  },
  {
   "cell_type": "code",
   "execution_count": null,
   "id": "b0262b3c-1d49-4c58-8e9a-e013adb8503c",
   "metadata": {},
   "outputs": [],
   "source": [
    "sns.boxplot(data = df, x = \"WritingScore\")\n",
    "plt.show()"
   ]
  },
  {
   "cell_type": "code",
   "execution_count": null,
   "id": "9139fbb0-96ba-4a86-86b4-06265bef038d",
   "metadata": {},
   "outputs": [],
   "source": [
    "print(df[\"EthnicGroup\"].unique())"
   ]
  },
  {
   "cell_type": "markdown",
   "id": "75a82ec4-d08d-4d4d-91d7-88be7d4f0d77",
   "metadata": {},
   "source": [
    "Distribution of ethnic group "
   ]
  },
  {
   "cell_type": "code",
   "execution_count": null,
   "id": "9e5351f0-6d08-4a66-bf36-04198bf6c3cf",
   "metadata": {},
   "outputs": [],
   "source": [
    "groupA=df.loc[(df['EthnicGroup'] == \"group A\")].count()\n",
    "groupB=df.loc[(df['EthnicGroup'] == \"group B\")].count()\n",
    "groupC=df.loc[(df['EthnicGroup'] == \"group C\")].count()\n",
    "groupD=df.loc[(df['EthnicGroup'] == \"group D\")].count()\n",
    "groupE=df.loc[(df['EthnicGroup'] == \"group E\")].count()\n",
    "l =['group A','group B','group C','group D','group E']\n",
    "mlist = [groupA[\"EthnicGroup\"],groupB[\"EthnicGroup\"],groupC[\"EthnicGroup\"],groupD[\"EthnicGroup\"],groupE[\"EthnicGroup\"]]\n",
    "print(mlist)\n",
    "plt.pie(mlist,labels = l, autopct = \"%1.2f%%\")\n",
    "plt.title(\"Distribution of ethnic group\")\n",
    "plt.show()"
   ]
  },
  {
   "cell_type": "code",
   "execution_count": null,
   "id": "6a248007-ec61-4f1c-9349-ddd58fdbc798",
   "metadata": {},
   "outputs": [],
   "source": [
    "ax=sns.countplot(data=df,x='EthnicGroup')\n",
    "ax.bar_label(ax.containers[0])"
   ]
  }
 ],
 "metadata": {
  "kernelspec": {
   "display_name": "Python 3 (ipykernel)",
   "language": "python",
   "name": "python3"
  },
  "language_info": {
   "codemirror_mode": {
    "name": "ipython",
    "version": 3
   },
   "file_extension": ".py",
   "mimetype": "text/x-python",
   "name": "python",
   "nbconvert_exporter": "python",
   "pygments_lexer": "ipython3",
   "version": "3.12.0"
  }
 },
 "nbformat": 4,
 "nbformat_minor": 5
}
